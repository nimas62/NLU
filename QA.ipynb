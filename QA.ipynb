{
  "nbformat": 4,
  "nbformat_minor": 0,
  "metadata": {
    "colab": {
      "name": "QA",
      "version": "0.3.2",
      "provenance": [],
      "collapsed_sections": [],
      "include_colab_link": true
    },
    "kernelspec": {
      "name": "python3",
      "display_name": "Python 3"
    }
  },
  "cells": [
    {
      "cell_type": "markdown",
      "metadata": {
        "id": "view-in-github",
        "colab_type": "text"
      },
      "source": [
        "<a href=\"https://colab.research.google.com/github/nimas62/NLU/blob/master/QA.ipynb\" target=\"_parent\"><img src=\"https://colab.research.google.com/assets/colab-badge.svg\" alt=\"Open In Colab\"/></a>"
      ]
    },
    {
      "cell_type": "markdown",
      "metadata": {
        "id": "XiwZpq0edMgL",
        "colab_type": "text"
      },
      "source": [
        "**Click on the \"play\" button to execute the cell.**\n",
        "First cell installs the reguired packages.\n",
        "\n",
        "The following cells are for respectively for:\n",
        "\n",
        "\n",
        "\n",
        "1.  WoframAlpha KB-based Question Answering\n",
        "2.   IBM Watson Information Retrieval\n",
        "3.   AllenNLP Text comprehension and Question Answering"
      ]
    },
    {
      "cell_type": "code",
      "metadata": {
        "id": "UAaytwuZ0Xem",
        "colab_type": "code",
        "colab": {}
      },
      "source": [
        "pip install wolframalpha wikipedia watson_developer_cloud allennlp"
      ],
      "execution_count": 0,
      "outputs": []
    },
    {
      "cell_type": "code",
      "metadata": {
        "id": "hpGIRt1N0nu7",
        "colab_type": "code",
        "colab": {
          "base_uri": "https://localhost:8080/",
          "height": 281
        },
        "outputId": "66c95440-324e-4830-dee5-3c5c6b1de6b5"
      },
      "source": [
        "import wolframalpha \n",
        "import wikipedia\n",
        "\n",
        "\n",
        "app_id = \"5GGEXG-APY4XG9TH3\"\n",
        "# call the wolfram application using its ID\n",
        "client = wolframalpha.Client(app_id)\n",
        "\n",
        "# Question samples\n",
        "\n",
        "user_questions=[\"Who is the president of the United States?\",\n",
        "           \"What is the square root of 2?\",\n",
        "           \"Barcelona weather\"]\n",
        "for user_question in user_questions:\n",
        "    print(\"^^^^^^^^^^^^^^^^^^^^^^^^^^^^^^^^^^^^^^^^^\\n\")\n",
        "    print(\"Question: \", user_question)\n",
        "    try:\n",
        "\n",
        "        # sending a query to the app and waiting for the responce\n",
        "        wolfram_response = client.query(user_question)\n",
        "        answer  = next(wolfram_response.results).text\n",
        "\n",
        "        #print(wolfram_response)\n",
        "        print(\"WoframAlpha: \",answer)\n",
        "    except:\n",
        "        #wikipedia\n",
        "        print (\"Wikipedia:\", wikipedia.summary(user_question))"
      ],
      "execution_count": 5,
      "outputs": [
        {
          "output_type": "stream",
          "text": [
            "^^^^^^^^^^^^^^^^^^^^^^^^^^^^^^^^^^^^^^^^^\n",
            "\n",
            "Question:  Who is the president of the United States?\n",
            "WoframAlpha:  Donald Trump (from January 20, 2017 to present)\n",
            "^^^^^^^^^^^^^^^^^^^^^^^^^^^^^^^^^^^^^^^^^\n",
            "\n",
            "Question:  What is the square root of 2?\n",
            "WoframAlpha:  1.414213562373095048801688724209698078569671875376948073176...\n",
            "^^^^^^^^^^^^^^^^^^^^^^^^^^^^^^^^^^^^^^^^^\n",
            "\n",
            "Question:  Barcelona weather\n",
            "WoframAlpha:  temperature | 82 °F (heat index: 84 °F)\n",
            "relative humidity | 51% (dew point: 63 °F)\n",
            "wind speed | 17 mph\n",
            "(46 minutes ago)\n"
          ],
          "name": "stdout"
        }
      ]
    },
    {
      "cell_type": "markdown",
      "metadata": {
        "id": "fNxu--r1c2_C",
        "colab_type": "text"
      },
      "source": [
        "**IBM Watson Information Retrieval**"
      ]
    },
    {
      "cell_type": "code",
      "metadata": {
        "id": "U7Mv7h4A2VDA",
        "colab_type": "code",
        "colab": {
          "base_uri": "https://localhost:8080/",
          "height": 512
        },
        "outputId": "cf511f3f-ae2a-4911-ae72-e7b0484f6285"
      },
      "source": [
        "import json\n",
        "from watson_developer_cloud import NaturalLanguageUnderstandingV1\n",
        "from watson_developer_cloud.natural_language_understanding_v1 import Features, CategoriesOptions, ConceptsOptions, EntitiesOptions, KeywordsOptions\n",
        "\n",
        "natural_language_understanding = NaturalLanguageUnderstandingV1(\n",
        "    version='2018-11-16',\n",
        "    iam_apikey='3e7mQG9wihr_IeEaWVJKbuUhIQmTVARx_6nF6jPTX5Ke',\n",
        "    url='https://gateway-lon.watsonplatform.net/natural-language-understanding/api'\n",
        ")\n",
        "\n",
        "\n",
        "response = natural_language_understanding.analyze(\n",
        "    url='http://www.goldenspear.com/gs_website_rsc/job-single-ai.html',\n",
        "    features=Features(entities=EntitiesOptions(sentiment=False,emotion=False,limit=2))).get_result()\n",
        "print(\"Entites found in the GoldenSpear website: \", json.dumps(response['entities'], indent=2))\n",
        "\n",
        "response = natural_language_understanding.analyze(\n",
        "    url='http://www.goldenspear.com/gs_website_rsc/job-single-ai.html',\n",
        "    features=Features(keywords=KeywordsOptions(sentiment=False,emotion=False,limit=2))).get_result()\n",
        "print(\"Keywords found in the GoldenSpear website: \", json.dumps(response['keywords'], indent=2))\n"
      ],
      "execution_count": 7,
      "outputs": [
        {
          "output_type": "stream",
          "text": [
            "/usr/local/lib/python3.6/dist-packages/ipykernel_launcher.py:8: DeprecationWarning: watson-developer-cloud moved to ibm-watson. To get updates, use the new package.\n",
            "  \n"
          ],
          "name": "stderr"
        },
        {
          "output_type": "stream",
          "text": [
            "Entites found in the GoldenSpear website:  [\n",
            "  {\n",
            "    \"type\": \"Location\",\n",
            "    \"text\": \"Barcelona\",\n",
            "    \"relevance\": 0.848589,\n",
            "    \"disambiguation\": {\n",
            "      \"subtype\": [\n",
            "        \"City\"\n",
            "      ]\n",
            "    },\n",
            "    \"count\": 4\n",
            "  }\n",
            "]\n",
            "Keywords found in the GoldenSpear website:  [\n",
            "  {\n",
            "    \"text\": \"Extensive experience\",\n",
            "    \"relevance\": 0.688352,\n",
            "    \"count\": 1\n",
            "  },\n",
            "  {\n",
            "    \"text\": \"open position\",\n",
            "    \"relevance\": 0.646109,\n",
            "    \"count\": 3\n",
            "  }\n",
            "]\n"
          ],
          "name": "stdout"
        }
      ]
    },
    {
      "cell_type": "markdown",
      "metadata": {
        "id": "Y6ziXJIZetTC",
        "colab_type": "text"
      },
      "source": [
        "**AllenNLP Text comprehension**"
      ]
    },
    {
      "cell_type": "code",
      "metadata": {
        "id": "RNYC51XZctHX",
        "colab_type": "code",
        "colab": {
          "base_uri": "https://localhost:8080/",
          "height": 477
        },
        "outputId": "8ffabf7a-187b-4753-f7e2-6744b3d247cf"
      },
      "source": [
        "from allennlp.predictors.predictor import Predictor\n",
        "predictor = Predictor.from_path(\"https://s3-us-west-2.amazonaws.com/allennlp/models/bidaf-model-2017.09.15-charpad.tar.gz\");\n",
        "\n",
        "text_corpus=\"\" \n",
        "user_questions=[\"Which NLP toolkits are necessary?\",\n",
        "               \"How much is the salary of the junior engineer?\",\n",
        "               \"How much is the salary of the senior engineer?\",\n",
        "               \"Which frameworks are necessary for Computer Vision?\"]\n",
        "for user_question in user_questions:\n",
        "  \n",
        "  answer=predictor.predict(\n",
        "    passage=\" We're hiring! GoldenSpear We're hiring! Artificial Intelligence Home > Hiring >Artificial Intelligence  Senior Artificial Intelligence Engineer for Natural Language Processing Full Time  45.000€ ~ 55.000€  Barcelona, SPAIN We currently have a Senior AI Engineer for NLP open position in our Barcelona office.  Responsibilities:  •Analyze and implement search strategies in natural language.  •Analyze and implement strategies for search, information retrieval and data extraction.  •Introduction of new techniques, technologies and standards as needed.  •Contribute to the design and development of our products.  Requirements:  •Bachelor's or Master's degree in computer science or equivalent.  •Extensive experience in building and implementing complete NLP systems.  •Proven experience on Natural Language Processing technologies and tools like Stanford CoreNLP, NLTK, FREELING, Numpy, Scikit, Tensorflow, Keras (2+ years of experience).  •Familiar with noSQL databases (ideally MongoDB) and REST APIs.  •Python proficiency (3+ years of experience).  •Immediate availability.   Junior Artificial Intelligence Engineer for Natural Language Processing Full Time  28.000€ ~ 35.000€  Barcelona, SPAIN We currently have a Junior AI Engineer for NLP open position in our Barcelona office.  Responsibilities:  •Analyze and implement search strategies in natural language.  •Analyze and implement strategies for search, information retrieval and data extraction.  •Introduction of new techniques, technologies and standards as needed.  •Contribute to the design and development of our products.  Requirements:  •Bachelor's or Master's degree in computer science or equivalent.  •Proven experience on Natural Language Processing toolkits such as Stanford CoreNLP, NLTK, Numpy or Scikit.  •Python (1+ year of experience).  •Immediate availability.   Junior Artificial Intelligence Engineer for Vision Full Time  28.000€ ~ 35.000€  Barcelona, SPAIN We currently have a Junior AI Engineer for Vision open position in our Barcelona office.  Responsibilities:  •Artificial Intelligence algorithms development.  •Integration of those algorithms into our AI platform.  Requirements:  •Bachelor's or Master's degree in computer science or equivalent.  •Proven experience on the following areas:  ▫Computer Vision (OpenCV or other frameworks).  ▫Machine Learning (SVMs, NB, Decision Trees).  ▫Deep Learning (CNNs, RNNs).  •Python proficiency.  •Tensorflow, Keras, Numpy, Scikit.  •Resourceful and self-motivated on applied research.  •Immediate availability.   Working at GoldenSpear We are like a big family with people from around the world and with many different backgrounds. We like to work in agile methodologies and sharing always our point of view. Being open is our way to learn and advance.  Our offices are located in a privileged location, on the high side and 5 minutes away from city center of the sunny, innovative and cosmopolitan Barcelona.  Our goal is to make firms embrace authentic experiences, engage their customers and disrupt their markets.  Some of our perks:  Competitive Salary Learning & Developement Culture Flexible working hours Great working atmosphere Daily Snacks Best gear for your needs Excellent location Copyright © 2019 All Rights Reserved  Based on a template made by Colorlib\",\n",
        "    question=user_question);\n",
        "  print(\"^^^^^^^^^^^^^^^^^^^^^^^^^^^^^^^^^^^^^^^^^\\n\")\n",
        "\n",
        "  print(\"Question: \", user_question)\n",
        "  print(\"Answer: \", answer[\"best_span_str\"])"
      ],
      "execution_count": 8,
      "outputs": [
        {
          "output_type": "stream",
          "text": [
            "/usr/local/lib/python3.6/dist-packages/sklearn/utils/linear_assignment_.py:21: DeprecationWarning: The linear_assignment_ module is deprecated in 0.21 and will be removed from 0.23. Use scipy.optimize.linear_sum_assignment instead.\n",
            "  DeprecationWarning)\n",
            "100%|██████████| 46175392/46175392 [00:02<00:00, 21899833.62B/s]\n",
            "/usr/local/lib/python3.6/dist-packages/allennlp/modules/text_field_embedders/basic_text_field_embedder.py:157: DeprecationWarning: the token embedders for BasicTextFieldEmbedder should now be specified as a dict under the 'token_embedders' key, not as top-level key-value pairs\n",
            "  warnings.warn(DeprecationWarning(\"the token embedders for BasicTextFieldEmbedder should now \"\n",
            "/usr/local/lib/python3.6/dist-packages/torch/nn/modules/rnn.py:54: UserWarning: dropout option adds dropout after all but last recurrent layer, so non-zero dropout expects num_layers greater than 1, but got dropout=0.2 and num_layers=1\n",
            "  \"num_layers={}\".format(dropout, num_layers))\n",
            "/usr/local/lib/python3.6/dist-packages/allennlp/data/token_indexers/token_characters_indexer.py:55: UserWarning: You are using the default value (0) of `min_padding_length`, which can cause some subtle bugs (more info see https://github.com/allenai/allennlp/issues/1954). Strongly recommend to set a value, usually the maximum size of the convolutional layer size when using CnnEncoder.\n",
            "  UserWarning)\n"
          ],
          "name": "stderr"
        },
        {
          "output_type": "stream",
          "text": [
            "^^^^^^^^^^^^^^^^^^^^^^^^^^^^^^^^^^^^^^^^^\n",
            "\n",
            "Question:  Which NLP toolkits are necessary?\n",
            "Answer:  Stanford CoreNLP, NLTK, Numpy or Scikit\n",
            "^^^^^^^^^^^^^^^^^^^^^^^^^^^^^^^^^^^^^^^^^\n",
            "\n",
            "Question:  How much is the salary of the junior engineer?\n",
            "Answer:  € ~ 35.000€\n",
            "^^^^^^^^^^^^^^^^^^^^^^^^^^^^^^^^^^^^^^^^^\n",
            "\n",
            "Question:  How much is the salary of the senior engineer?\n",
            "Answer:  € ~ 55.000€\n",
            "^^^^^^^^^^^^^^^^^^^^^^^^^^^^^^^^^^^^^^^^^\n",
            "\n",
            "Question:  Which frameworks are necessary for Computer Vision?\n",
            "Answer:  OpenCV or other\n"
          ],
          "name": "stdout"
        }
      ]
    }
  ]
}